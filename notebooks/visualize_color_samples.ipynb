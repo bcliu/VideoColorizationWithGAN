{
 "cells": [
  {
   "cell_type": "code",
   "execution_count": null,
   "metadata": {
    "collapsed": true
   },
   "outputs": [],
   "source": [
    "%load_ext autoreload\n",
    "%autoreload 2\n",
    "\n",
    "from skimage import io, color\n",
    "import torch\n",
    "from dataset.color_sampling import sample_color_hints\n",
    "import matplotlib.pyplot as plt\n",
    "\n",
    "device = torch.device('cuda')\n",
    "\n",
    "original1 = io.imread('/mnt/Research/datasets/val/qing-ep20-01546.png')[4:-4]\n",
    "original2 = io.imread('/mnt/Research/datasets/val/qing-ep20-04147.png')[4:-4]\n",
    "\n",
    "lab1 = torch.tensor(color.rgb2lab(original1), device='cuda').unsqueeze(0)\n",
    "lab2 = torch.tensor(color.rgb2lab(original2), device='cuda').unsqueeze(0)\n",
    "\n",
    "batch = torch.cat([lab1, lab2], dim=0).permute(0, 3, 1, 2)\n",
    "\n",
    "L_channel = batch[:, [0]]\n",
    "ab_hint, ab_mask, bounding_boxes = sample_color_hints(batch)\n",
    "\n",
    "plt.imshow(original1)\n"
   ]
  }
 ],
 "metadata": {
  "kernelspec": {
   "display_name": "Python 3",
   "language": "python",
   "name": "python3"
  },
  "language_info": {
   "codemirror_mode": {
    "name": "ipython",
    "version": 2
   },
   "file_extension": ".py",
   "mimetype": "text/x-python",
   "name": "python",
   "nbconvert_exporter": "python",
   "pygments_lexer": "ipython2",
   "version": "2.7.6"
  }
 },
 "nbformat": 4,
 "nbformat_minor": 0
}