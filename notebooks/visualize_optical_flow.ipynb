{
 "cells": [
  {
   "cell_type": "code",
   "execution_count": null,
   "metadata": {},
   "outputs": [],
   "source": [
    "%matplotlib notebook\n",
    "\n",
    "import os\n",
    "import sys\n",
    "\n",
    "module_path = os.path.abspath(os.path.join('..'))\n",
    "if module_path not in sys.path:\n",
    "    sys.path.append(module_path)\n",
    "\n",
    "import cv2\n",
    "import numpy as np\n",
    "import matplotlib.pyplot as plt\n",
    "from dataset.user_guided_dataset import UserGuidedVideoDataset\n",
    "import torch\n",
    "from skimage import color\n",
    "from dataset.util import apply_optical_flow_to_hint, overlay_hint_on_image"
   ]
  },
  {
   "cell_type": "code",
   "execution_count": null,
   "metadata": {},
   "outputs": [],
   "source": [
    "frame1 = '../datasets/bw-frames/all/01130.png'\n",
    "frame2 = '../datasets/bw-frames/all/01140.png'"
   ]
  },
  {
   "cell_type": "code",
   "execution_count": null,
   "metadata": {},
   "outputs": [],
   "source": [
    "color1 = cv2.imread(frame1, cv2.IMREAD_COLOR)\n",
    "color2 = cv2.imread(frame2, cv2.IMREAD_COLOR)\n",
    "\n",
    "gray1 = cv2.cvtColor(color1, cv2.COLOR_BGR2GRAY)\n",
    "gray2 = cv2.cvtColor(color2, cv2.COLOR_BGR2GRAY)\n",
    "\n",
    "mask = np.zeros_like(color1)\n",
    "# Set image saturation to maximum value as we do not need it\n",
    "mask[..., 1] = 255"
   ]
  },
  {
   "cell_type": "code",
   "execution_count": null,
   "metadata": {},
   "outputs": [],
   "source": [
    "flow = cv2.calcOpticalFlowFarneback(gray1, gray2, None, pyr_scale = 0.5, levels = 5,\n",
    "                                    winsize = 11, iterations = 5, poly_n = 5, poly_sigma = 1.1, flags = 0)\n",
    "magnitude, angle = cv2.cartToPolar(flow[..., 0], flow[..., 1])\n",
    "\n",
    "mask[..., 0] = angle * 180 / np.pi / 2\n",
    "# Set image value according to the optical flow magnitude (normalized)\n",
    "mask[..., 2] = cv2.normalize(magnitude, None, 0, 255, cv2.NORM_MINMAX)\n",
    "# Convert HSV to RGB (BGR) color representation\n",
    "rgb = cv2.cvtColor(mask, cv2.COLOR_HSV2BGR)"
   ]
  },
  {
   "cell_type": "code",
   "execution_count": null,
   "metadata": {
    "scrolled": false
   },
   "outputs": [],
   "source": [
    "dense_flow = cv2.addWeighted(color1, 1, rgb, 2, 0)\n",
    "\n",
    "plt.figure()\n",
    "plt.imshow(dense_flow)\n",
    "plt.figure()\n",
    "plt.imshow(color1)\n",
    "\n",
    "interval = 20\n",
    "for y in range(0, flow.shape[0], interval):\n",
    "    for x in range(0, flow.shape[1], interval):\n",
    "        plt.arrow(x, y, flow[y, x, 0], flow[y, x, 1], fc=\"k\", ec=\"k\", head_width=3, head_length=2)"
   ]
  },
  {
   "cell_type": "markdown",
   "metadata": {},
   "source": [
    "### Sample color patches and apply optical flow"
   ]
  },
  {
   "cell_type": "code",
   "execution_count": null,
   "metadata": {},
   "outputs": [],
   "source": [
    "L_channel, ab_channels, ab_hint, ab_mask, bounding_boxes = \\\n",
    "    UserGuidedVideoDataset('', [frame1], random_crop=None, crop_to_fit=False)[0]\n",
    "\n",
    "plt.figure()\n",
    "plt.imshow(overlay_hint_on_image(L_channel, ab_channels, ab_mask, ab_hint, -1.0))"
   ]
  },
  {
   "cell_type": "code",
   "execution_count": null,
   "metadata": {},
   "outputs": [],
   "source": [
    "shifted_ab_hint, shifted_ab_mask = apply_optical_flow_to_hint(ab_hint, ab_mask, flow)\n",
    "    \n",
    "img2_L_channel, img2_ab_channels, _, _, _ = \\\n",
    "    UserGuidedVideoDataset('', [frame2], random_crop=None, crop_to_fit=False)[0]\n",
    "\n",
    "img2_replaced_rgb = overlay_hint_on_image(img2_L_channel, img2_ab_channels, shifted_ab_mask, shifted_ab_hint, -1.0)\n",
    "\n",
    "plt.figure()\n",
    "plt.imshow(img2_replaced_rgb)"
   ]
  },
  {
   "cell_type": "code",
   "execution_count": null,
   "metadata": {},
   "outputs": [],
   "source": []
  }
 ],
 "metadata": {
  "kernelspec": {
   "display_name": "Python 3",
   "language": "python",
   "name": "python3"
  },
  "language_info": {
   "codemirror_mode": {
    "name": "ipython",
    "version": 3
   },
   "file_extension": ".py",
   "mimetype": "text/x-python",
   "name": "python",
   "nbconvert_exporter": "python",
   "pygments_lexer": "ipython3",
   "version": "3.8.2"
  }
 },
 "nbformat": 4,
 "nbformat_minor": 4
}