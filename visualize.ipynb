{
 "cells": [
  {
   "cell_type": "code",
   "execution_count": 52,
   "metadata": {
    "collapsed": true
   },
   "outputs": [],
   "source": [
    "import torch\n",
    "from skimage import io\n",
    "import skimage.color\n",
    "import numpy as np\n",
    "from model.unet import UNet\n",
    "import matplotlib.pyplot as plt\n",
    "from torchvision import models\n",
    "import torch.nn as nn\n",
    "\n",
    "device = torch.device('cuda:0')\n",
    "\n",
    "def load_bw_image(path):\n",
    "    # Crop so that both dimensions are multiples of 32\n",
    "    original = io.imread(path)[4:-4]\n",
    "    L_channel = (original[:, :, 0] - 128) / 128\n",
    "    L_channel = np.expand_dims(L_channel, axis=[0, 1]).astype(np.float32)\n",
    "    return L_channel\n",
    "\n",
    "def load_color_image(path):\n",
    "    # Crop so that both dimensions are multiples of 32\n",
    "    original = io.imread(path)[4:-4]\n",
    "    image = skimage.color.rgb2lab(original)\n",
    "    L_channel = (image[:, :, 0] - 50) / 50\n",
    "    L_channel = np.expand_dims(L_channel, axis=[0, 1]).astype(np.float32)\n",
    "    return original, L_channel"
   ]
  },
  {
   "cell_type": "code",
   "execution_count": 2,
   "outputs": [
    {
     "data": {
      "text/plain": "<All keys matched successfully>"
     },
     "execution_count": 2,
     "metadata": {},
     "output_type": "execute_result"
    }
   ],
   "source": [
    "model_path = '/mnt/Research/ShanghaiProject/code/checkpoint/lr0.0001_2020-05-17-01-03-46/epoch1_iter9999.pt'\n",
    "model = torch.nn.DataParallel(UNet().to(device))\n",
    "\n",
    "checkpoint = torch.load(model_path, map_location=device)\n",
    "model.load_state_dict(checkpoint['model_state_dict'])"
   ],
   "metadata": {
    "collapsed": false,
    "pycharm": {
     "name": "#%%\n"
    }
   }
  },
  {
   "cell_type": "code",
   "execution_count": 53,
   "outputs": [
    {
     "name": "stdout",
     "output_type": "stream",
     "text": [
      "L channel shape: (1, 1, 352, 480)\n"
     ]
    }
   ],
   "source": [
    "image_path = '/mnt/Research/ShanghaiProject/test-dataset/test/1166.png'\n",
    "image2_path = '/mnt/Research/ShanghaiProject/test-dataset/test/1137.png'\n",
    "image3_path = '/mnt/Research/ShanghaiProject/test-dataset/bw/992.png'\n",
    "\n",
    "original_image, L_channel = load_color_image(image2_path)\n",
    "# L_channel = load_bw_image(image3_path)\n",
    "# print(f'Image shape: {original_image.shape}')\n",
    "print(f'L channel shape: {L_channel.shape}')"
   ],
   "metadata": {
    "collapsed": false,
    "pycharm": {
     "name": "#%%\n"
    }
   }
  },
  {
   "cell_type": "code",
   "execution_count": 54,
   "outputs": [
    {
     "name": "stdout",
     "output_type": "stream",
     "text": [
      "torch.Size([1, 64, 176, 240])\n",
      "torch.Size([1, 64, 176, 240])\n",
      "torch.Size([1, 64, 176, 240])\n",
      "torch.Size([1, 64, 88, 120])\n",
      "torch.Size([1, 64, 88, 120])\n",
      "torch.Size([1, 128, 44, 60])\n",
      "torch.Size([1, 256, 22, 30])\n",
      "torch.Size([1, 512, 11, 15])\n"
     ]
    }
   ],
   "source": [
    "resnet = models.resnet34(pretrained=True)._modules\n",
    "resnet_input = torch.tensor(original_image.transpose((2, 0, 1))).unsqueeze(0).float()\n",
    "\n",
    "resnet_output = resnet_input\n",
    "for layer in list(resnet)[:-2]:\n",
    "    resnet_output = resnet[layer](resnet_output)\n",
    "    print(resnet_output.shape)\n"
   ],
   "metadata": {
    "collapsed": false,
    "pycharm": {
     "name": "#%%\n"
    }
   }
  },
  {
   "cell_type": "code",
   "execution_count": 55,
   "outputs": [
    {
     "name": "stdout",
     "output_type": "stream",
     "text": [
      "torch.Size([1, 256, 22, 30])\n"
     ]
    }
   ],
   "source": [
    "deconv = nn.ConvTranspose2d(512, 256, kernel_size=2, stride=2)\n",
    "print(deconv(resnet_output).shape)"
   ],
   "metadata": {
    "collapsed": false,
    "pycharm": {
     "name": "#%%\n"
    }
   }
  },
  {
   "cell_type": "code",
   "execution_count": null,
   "outputs": [],
   "source": [
    "output = model(torch.tensor(L_channel).to(device))\n",
    "print(f'Predictions shape: {output.shape}')"
   ],
   "metadata": {
    "collapsed": false,
    "pycharm": {
     "name": "#%%\n"
    }
   }
  },
  {
   "cell_type": "code",
   "execution_count": 56,
   "outputs": [
    {
     "ename": "RuntimeError",
     "evalue": "CUDA error: unspecified launch failure",
     "output_type": "error",
     "traceback": [
      "\u001B[0;31m---------------------------------------------------------------------------\u001B[0m",
      "\u001B[0;31mRuntimeError\u001B[0m                              Traceback (most recent call last)",
      "\u001B[0;32m<ipython-input-56-19834fed61a2>\u001B[0m in \u001B[0;36m<module>\u001B[0;34m\u001B[0m\n\u001B[0;32m----> 1\u001B[0;31m \u001B[0mab_channels\u001B[0m \u001B[0;34m=\u001B[0m \u001B[0moutput\u001B[0m\u001B[0;34m.\u001B[0m\u001B[0msqueeze\u001B[0m\u001B[0;34m(\u001B[0m\u001B[0;34m)\u001B[0m\u001B[0;34m.\u001B[0m\u001B[0mcpu\u001B[0m\u001B[0;34m(\u001B[0m\u001B[0;34m)\u001B[0m\u001B[0;34m.\u001B[0m\u001B[0mdetach\u001B[0m\u001B[0;34m(\u001B[0m\u001B[0;34m)\u001B[0m\u001B[0;34m.\u001B[0m\u001B[0mnumpy\u001B[0m\u001B[0;34m(\u001B[0m\u001B[0;34m)\u001B[0m\u001B[0;34m\u001B[0m\u001B[0;34m\u001B[0m\u001B[0m\n\u001B[0m\u001B[1;32m      2\u001B[0m \u001B[0mLab\u001B[0m \u001B[0;34m=\u001B[0m \u001B[0mnp\u001B[0m\u001B[0;34m.\u001B[0m\u001B[0mconcatenate\u001B[0m\u001B[0;34m(\u001B[0m\u001B[0;34m[\u001B[0m\u001B[0mL_channel\u001B[0m\u001B[0;34m[\u001B[0m\u001B[0;36m0\u001B[0m\u001B[0;34m]\u001B[0m\u001B[0;34m,\u001B[0m \u001B[0mab_channels\u001B[0m\u001B[0;34m]\u001B[0m\u001B[0;34m,\u001B[0m \u001B[0maxis\u001B[0m\u001B[0;34m=\u001B[0m\u001B[0;36m0\u001B[0m\u001B[0;34m)\u001B[0m\u001B[0;34m\u001B[0m\u001B[0;34m\u001B[0m\u001B[0m\n\u001B[1;32m      3\u001B[0m \u001B[0mLab\u001B[0m \u001B[0;34m=\u001B[0m \u001B[0mLab\u001B[0m\u001B[0;34m.\u001B[0m\u001B[0mtranspose\u001B[0m\u001B[0;34m(\u001B[0m\u001B[0;34m(\u001B[0m\u001B[0;36m1\u001B[0m\u001B[0;34m,\u001B[0m \u001B[0;36m2\u001B[0m\u001B[0;34m,\u001B[0m \u001B[0;36m0\u001B[0m\u001B[0;34m)\u001B[0m\u001B[0;34m)\u001B[0m\u001B[0;34m\u001B[0m\u001B[0;34m\u001B[0m\u001B[0m\n\u001B[1;32m      4\u001B[0m \u001B[0mprint\u001B[0m\u001B[0;34m(\u001B[0m\u001B[0;34mf'Lab shape: {Lab.shape}'\u001B[0m\u001B[0;34m)\u001B[0m\u001B[0;34m\u001B[0m\u001B[0;34m\u001B[0m\u001B[0m\n\u001B[1;32m      5\u001B[0m \u001B[0;34m\u001B[0m\u001B[0m\n",
      "\u001B[0;31mRuntimeError\u001B[0m: CUDA error: unspecified launch failure"
     ]
    }
   ],
   "source": [
    "ab_channels = output.squeeze().cpu().detach().numpy()\n",
    "Lab = np.concatenate([L_channel[0], ab_channels], axis=0)\n",
    "Lab = Lab.transpose((1, 2, 0))\n",
    "print(f'Lab shape: {Lab.shape}')\n",
    "\n",
    "# Lab = (Lab * [50, 128, 128] + [50, 0, 0])\n",
    "Lab = (Lab * [128, 128, 128] + [128, 0, 0])\n",
    "print(f'Mean in L channel: {Lab[:, :, 0].mean()}')\n",
    "print(f'Mean in a channel: {Lab[:, :, 1].mean()}')\n",
    "print(f'Mean in b channel: {Lab[:, :, 2].mean()}')\n",
    "\n",
    "rgb_output = skimage.color.lab2rgb(Lab)\n",
    "\n",
    "plt.imshow(rgb_output)\n"
   ],
   "metadata": {
    "collapsed": false,
    "pycharm": {
     "name": "#%%\n"
    }
   }
  }
 ],
 "metadata": {
  "kernelspec": {
   "display_name": "Python 3",
   "language": "python",
   "name": "python3"
  },
  "language_info": {
   "codemirror_mode": {
    "name": "ipython",
    "version": 2
   },
   "file_extension": ".py",
   "mimetype": "text/x-python",
   "name": "python",
   "nbconvert_exporter": "python",
   "pygments_lexer": "ipython2",
   "version": "2.7.6"
  }
 },
 "nbformat": 4,
 "nbformat_minor": 0
}